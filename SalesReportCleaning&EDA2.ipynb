{
    "cells": [
        {
            "cell_type": "code",
            "metadata": {
                "source_hash": "b5c256b9",
                "execution_start": 1733703322033,
                "execution_millis": 791,
                "execution_context_id": "64931ff0-96a0-406e-a43a-1a91dcd0f193",
                "deepnote_app_block_visible": true,
                "deepnote_app_is_code_hidden": true,
                "deepnote_app_is_output_hidden": false,
                "cell_id": "b648a78c0d6e4213bda58f9532bf4931",
                "deepnote_cell_type": "code"
            },
            "source": "import os\nimport numpy as np\nimport pandas as pd\nimport matplotlib.pyplot as plt\nimport seaborn as sns\nfrom pymongo import MongoClient\nfrom pprint import pprint",
            "block_group": "b648a78c0d6e4213bda58f9532bf4931",
            "execution_count": 1,
            "outputs": [],
            "outputs_reference": null,
            "content_dependencies": null
        },
        {
            "cell_type": "code",
            "metadata": {
                "source_hash": "261e1093",
                "execution_start": 1733703322873,
                "execution_millis": 119,
                "execution_context_id": "64931ff0-96a0-406e-a43a-1a91dcd0f193",
                "deepnote_app_block_visible": true,
                "deepnote_app_is_code_hidden": true,
                "deepnote_app_is_output_hidden": false,
                "cell_id": "0cd81d3eedc540b0ac445c8f85abdab4",
                "deepnote_cell_type": "code"
            },
            "source": "client = MongoClient(os.environ[\"ECOMMERCE__CONNECTION_STRING\"])\ndb = client[\"ecommerce\"]\nserverStatusResult = db.command(\"serverStatus\")\npprint(serverStatusResult)",
            "block_group": "bb24173b82c14aa6a27a9edef04b787b",
            "execution_count": 2,
            "outputs": [
                {
                    "name": "stdout",
                    "text": "{'$clusterTime': {'clusterTime': Timestamp(1733703322, 50),\n                  'signature': {'hash': b'\\xf1\\xee\\xc0\\x8eK\\x16\\x8f\\xaa'\n                                        b'1\\xe0\\xae\\x0e\\xdd}\\xb4?\\xa8\\xd5,\\xb2',\n                                'keyId': 7389295562647928840}},\n 'asserts': {'msg': 0, 'regular': 0, 'rollovers': 0, 'user': 0, 'warning': 0},\n 'atlasVersion': {'gitVersion': '187c4553b9ee076e86218fd2076914ae11ecc113',\n                  'version': '20241113.0.0.1731341512'},\n 'connections': {'available': 494, 'current': 6, 'totalCreated': 375},\n 'extra_info': {'note': 'fields vary by platform', 'page_faults': 0},\n 'host': 'cluster0-shard-00-02.zf6aq.mongodb.net:27017',\n 'localTime': datetime.datetime(2024, 12, 9, 0, 15, 22, 983000),\n 'mem': {'bits': 64,\n         'mapped': 0,\n         'mappedWithJournal': 0,\n         'resident': 0,\n         'supported': True,\n         'virtual': 0},\n 'metrics': {'aggStageCounters': {'search': 0,\n                                  'searchBeta': 0,\n                                  'searchMeta': 0,\n                                  'vectorSearch': 0},\n             'atlas': {'connectionPool': {'totalCreated': 390341}},\n             'operatorCounters': {'match': {'regex': 0, 'text': 0}}},\n 'network': {'bytesIn': 520583439, 'bytesOut': 1001427219, 'numRequests': 9616},\n 'ok': 1.0,\n 'opLatencies': {'commands': {'latency': 107869476514, 'ops': 8373},\n                 'reads': {'latency': 21575306, 'ops': 608},\n                 'writes': {'latency': 142826574, 'ops': 535}},\n 'opcounters': {'command': 8407,\n                'delete': 2,\n                'deprecated': {'getmore': 0, 'query': 0},\n                'getmore': 85,\n                'insert': 434567,\n                'query': 550,\n                'update': 0},\n 'opcountersRepl': {'command': 0,\n                    'delete': 0,\n                    'deprecated': {'getmore': 0, 'query': 0},\n                    'getmore': 0,\n                    'insert': 0,\n                    'query': 0,\n                    'update': 0},\n 'operationTime': Timestamp(1733703322, 50),\n 'pid': 2705,\n 'process': 'mongod',\n 'repl': {'electionId': ObjectId('7fffffff00000000000001e1'),\n          'hosts': ['cluster0-shard-00-00.zf6aq.mongodb.net:27017',\n                    'cluster0-shard-00-01.zf6aq.mongodb.net:27017',\n                    'cluster0-shard-00-02.zf6aq.mongodb.net:27017'],\n          'isWritablePrimary': True,\n          'lastWrite': {'lastWriteDate': datetime.datetime(2024, 12, 9, 0, 15, 22),\n                        'majorityOpTime': {'t': 481,\n                                           'ts': Timestamp(1733703322, 50)},\n                        'majorityWriteDate': datetime.datetime(2024, 12, 9, 0, 15, 22),\n                        'opTime': {'t': 481, 'ts': Timestamp(1733703322, 50)}},\n          'me': 'cluster0-shard-00-02.zf6aq.mongodb.net:27017',\n          'primary': 'cluster0-shard-00-02.zf6aq.mongodb.net:27017',\n          'primaryOnlyServices': {},\n          'rbid': 57,\n          'secondary': False,\n          'setName': 'atlas-vwkfwh-shard-0',\n          'setVersion': 145,\n          'tags': {'availabilityZone': 'use1-az4',\n                   'diskState': 'READY',\n                   'nodeType': 'ELECTABLE',\n                   'provider': 'AWS',\n                   'region': 'US_EAST_1',\n                   'workloadType': 'OPERATIONAL'},\n          'topologyVersion': {'counter': 6,\n                              'processId': ObjectId('67422f60ee371e119c7247da')},\n          'userWriteBlockMode': 1},\n 'storageEngine': {'backupCursorOpen': False,\n                   'dropPendingIdents': 0,\n                   'name': 'wiredTiger',\n                   'oldestRequiredTimestampForCrashRecovery': Timestamp(1733703268, 26),\n                   'persistent': True,\n                   'readOnly': False,\n                   'supportsCommittedReads': True,\n                   'supportsPendingDrops': True,\n                   'supportsSnapshotReadConcern': True},\n 'uptime': 1312571.0,\n 'uptimeEstimate': 1312535,\n 'uptimeMillis': 1312535603,\n 'version': '8.0.3'}\n",
                    "output_type": "stream"
                }
            ],
            "outputs_reference": "s3:deepnote-cell-outputs-production/6b71b5f0-95b5-49b8-8ead-4aa939291f14",
            "content_dependencies": null
        },
        {
            "cell_type": "code",
            "metadata": {
                "source_hash": "db5438d",
                "execution_start": 1733703323037,
                "execution_millis": 0,
                "execution_context_id": "64931ff0-96a0-406e-a43a-1a91dcd0f193",
                "deepnote_app_block_visible": true,
                "deepnote_app_is_code_hidden": true,
                "deepnote_app_is_output_hidden": false,
                "cell_id": "8e5be878c12841e1b7db328c621c3744",
                "deepnote_cell_type": "code"
            },
            "source": "#Cleaning Float Col Function\ndef cleaning_float_col(df, col_name):\n    df[col_name] = df[col_name].replace([None, 'error', '#VALUE!', 'unknown', 'missing'], np.nan)\n    df[col_name] = df[col_name].astype(float)",
            "block_group": "78845a5b83c64654b95ada549fa85cd3",
            "execution_count": 3,
            "outputs": [],
            "outputs_reference": null,
            "content_dependencies": null
        },
        {
            "cell_type": "markdown",
            "metadata": {
                "formattedRanges": [],
                "deepnote_app_block_visible": true,
                "cell_id": "cc49cbc327364bb58a5995ee310aa8d5",
                "deepnote_cell_type": "text-cell-h1"
            },
            "source": "# Sales-March-2021 Table Cleaning",
            "block_group": "76b88bcb3d6d4b45a521b11553639fa9"
        },
        {
            "cell_type": "code",
            "metadata": {
                "source_hash": "c34c7874",
                "execution_start": 1733703323089,
                "execution_millis": 0,
                "execution_context_id": "64931ff0-96a0-406e-a43a-1a91dcd0f193",
                "deepnote_app_block_visible": true,
                "deepnote_app_is_code_hidden": true,
                "deepnote_app_is_output_hidden": false,
                "cell_id": "5c634081c5874f73ac7bb3dd64c5ef81",
                "deepnote_cell_type": "code"
            },
            "source": "sales_report_march = db['Sales-March-2021'].find() \ndfMarch = pd.DataFrame(list(sales_report_march))",
            "block_group": "5e5c9a82226e427dab1922b59cd4ed39",
            "execution_count": 4,
            "outputs": [],
            "outputs_reference": null,
            "content_dependencies": null
        },
        {
            "cell_type": "code",
            "metadata": {
                "source_hash": "a396baee",
                "execution_start": 1733703323137,
                "execution_millis": 14,
                "execution_context_id": "64931ff0-96a0-406e-a43a-1a91dcd0f193",
                "deepnote_app_block_visible": true,
                "deepnote_app_is_code_hidden": true,
                "deepnote_app_is_output_hidden": false,
                "cell_id": "ddea8e0b2ad94399ae4117f63e63039c",
                "deepnote_cell_type": "code"
            },
            "source": "dfMarch",
            "block_group": "033a44a557a243199b49b470d68eb231",
            "execution_count": 5,
            "outputs": [
                {
                    "output_type": "execute_result",
                    "execution_count": 5,
                    "data": {
                        "application/vnd.deepnote.dataframe.v3+json": {
                            "column_count": 19,
                            "row_count": 1730,
                            "columns": [
                                {
                                    "name": "_id",
                                    "dtype": "object",
                                    "stats": {
                                        "unique_count": 1730,
                                        "nan_count": 0,
                                        "categories": [
                                            {
                                                "name": "672c45c74dff41a157eca827",
                                                "count": 1
                                            },
                                            {
                                                "name": "672c45c74dff41a157eca828",
                                                "count": 1
                                            },
                                            {
                                                "name": "1728 others",
                                                "count": 1728
                                            }
                                        ]
                                    }
                                },
                                {
                                    "name": "index",
                                    "dtype": "int64",
                                    "stats": {
                                        "unique_count": 1399,
                                        "nan_count": 0,
                                        "min": "0",
                                        "max": "1398",
                                        "histogram": [
                                            {
                                                "bin_start": 0,
                                                "bin_end": 139.8,
                                                "count": 140
                                            },
                                            {
                                                "bin_start": 139.8,
                                                "bin_end": 279.6,
                                                "count": 140
                                            },
                                            {
                                                "bin_start": 279.6,
                                                "bin_end": 419.40000000000003,
                                                "count": 140
                                            },
                                            {
                                                "bin_start": 419.40000000000003,
                                                "bin_end": 559.2,
                                                "count": 140
                                            },
                                            {
                                                "bin_start": 559.2,
                                                "bin_end": 699,
                                                "count": 139
                                            },
                                            {
                                                "bin_start": 699,
                                                "bin_end": 838.8000000000001,
                                                "count": 140
                                            },
                                            {
                                                "bin_start": 838.8000000000001,
                                                "bin_end": 978.6000000000001,
                                                "count": 140
                                            },
                                            {
                                                "bin_start": 978.6000000000001,
                                                "bin_end": 1118.4,
                                                "count": 260
                                            },
                                            {
                                                "bin_start": 1118.4,
                                                "bin_end": 1258.2,
                                                "count": 280
                                            },
                                            {
                                                "bin_start": 1258.2,
                                                "bin_end": 1398,
                                                "count": 211
                                            }
                                        ]
                                    }
                                },
                                {
                                    "name": "Sku",
                                    "dtype": "object",
                                    "stats": {
                                        "unique_count": 1730,
                                        "nan_count": 0,
                                        "categories": [
                                            {
                                                "name": "Os206_3141_S",
                                                "count": 1
                                            },
                                            {
                                                "name": "Os206_3141_M",
                                                "count": 1
                                            },
                                            {
                                                "name": "1728 others",
                                                "count": 1728
                                            }
                                        ]
                                    }
                                },
                                {
                                    "name": "Style Id",
                                    "dtype": "object",
                                    "stats": {
                                        "unique_count": 654,
                                        "nan_count": 0,
                                        "categories": [
                                            {
                                                "name": "Os160",
                                                "count": 8
                                            },
                                            {
                                                "name": "Os198_5045",
                                                "count": 7
                                            },
                                            {
                                                "name": "652 others",
                                                "count": 1715
                                            }
                                        ]
                                    }
                                },
                                {
                                    "name": "Catalog",
                                    "dtype": "object",
                                    "stats": {
                                        "unique_count": 11,
                                        "nan_count": 131,
                                        "categories": [
                                            {
                                                "name": "Mix",
                                                "count": 830
                                            },
                                            {
                                                "name": "10 others",
                                                "count": 769
                                            },
                                            {
                                                "name": "Missing",
                                                "count": 131
                                            }
                                        ]
                                    }
                                },
                                {
                                    "name": "Category",
                                    "dtype": "object",
                                    "stats": {
                                        "unique_count": 7,
                                        "nan_count": 105,
                                        "categories": [
                                            {
                                                "name": "Kurta",
                                                "count": 918
                                            },
                                            {
                                                "name": "6 others",
                                                "count": 707
                                            },
                                            {
                                                "name": "Missing",
                                                "count": 105
                                            }
                                        ]
                                    }
                                },
                                {
                                    "name": "Weight",
                                    "dtype": "object",
                                    "stats": {
                                        "unique_count": 7,
                                        "nan_count": 80,
                                        "categories": [
                                            {
                                                "name": "0.3",
                                                "count": 898
                                            },
                                            {
                                                "name": "6 others",
                                                "count": 752
                                            },
                                            {
                                                "name": "Missing",
                                                "count": 80
                                            }
                                        ]
                                    }
                                },
                                {
                                    "name": "TP 1",
                                    "dtype": "object",
                                    "stats": {
                                        "unique_count": 95,
                                        "nan_count": 77,
                                        "categories": [
                                            {
                                                "name": "395",
                                                "count": 139
                                            },
                                            {
                                                "name": "94 others",
                                                "count": 1514
                                            },
                                            {
                                                "name": "Missing",
                                                "count": 77
                                            }
                                        ]
                                    }
                                },
                                {
                                    "name": "TP 2",
                                    "dtype": "object",
                                    "stats": {
                                        "unique_count": 96,
                                        "nan_count": 81,
                                        "categories": [
                                            {
                                                "name": "319.95",
                                                "count": 139
                                            },
                                            {
                                                "name": "95 others",
                                                "count": 1510
                                            },
                                            {
                                                "name": "Missing",
                                                "count": 81
                                            }
                                        ]
                                    }
                                },
                                {
                                    "name": "MRP Old",
                                    "dtype": "object",
                                    "stats": {
                                        "unique_count": 71,
                                        "nan_count": 78,
                                        "categories": [
                                            {
                                                "name": "1695",
                                                "count": 156
                                            },
                                            {
                                                "name": "70 others",
                                                "count": 1496
                                            },
                                            {
                                                "name": "Missing",
                                                "count": 78
                                            }
                                        ]
                                    }
                                },
                                {
                                    "name": "Final MRP Old",
                                    "dtype": "object",
                                    "stats": {
                                        "unique_count": 57,
                                        "nan_count": 87,
                                        "categories": [
                                            {
                                                "name": "1895",
                                                "count": 172
                                            },
                                            {
                                                "name": "56 others",
                                                "count": 1471
                                            },
                                            {
                                                "name": "Missing",
                                                "count": 87
                                            }
                                        ]
                                    }
                                },
                                {
                                    "name": "Ajio MRP",
                                    "dtype": "object",
                                    "stats": {
                                        "unique_count": 56,
                                        "nan_count": 89,
                                        "categories": [
                                            {
                                                "name": "1895",
                                                "count": 173
                                            },
                                            {
                                                "name": "55 others",
                                                "count": 1468
                                            },
                                            {
                                                "name": "Missing",
                                                "count": 89
                                            }
                                        ]
                                    }
                                },
                                {
                                    "name": "Amazon MRP",
                                    "dtype": "object",
                                    "stats": {
                                        "unique_count": 56,
                                        "nan_count": 85,
                                        "categories": [
                                            {
                                                "name": "1895",
                                                "count": 203
                                            },
                                            {
                                                "name": "55 others",
                                                "count": 1442
                                            },
                                            {
                                                "name": "Missing",
                                                "count": 85
                                            }
                                        ]
                                    }
                                },
                                {
                                    "name": "Amazon FBA MRP",
                                    "dtype": "object",
                                    "stats": {
                                        "unique_count": 57,
                                        "nan_count": 88,
                                        "categories": [
                                            {
                                                "name": "1895",
                                                "count": 203
                                            },
                                            {
                                                "name": "56 others",
                                                "count": 1439
                                            },
                                            {
                                                "name": "Missing",
                                                "count": 88
                                            }
                                        ]
                                    }
                                },
                                {
                                    "name": "Flipkart MRP",
                                    "dtype": "object",
                                    "stats": {
                                        "unique_count": 56,
                                        "nan_count": 90,
                                        "categories": [
                                            {
                                                "name": "1895",
                                                "count": 178
                                            },
                                            {
                                                "name": "55 others",
                                                "count": 1462
                                            },
                                            {
                                                "name": "Missing",
                                                "count": 90
                                            }
                                        ]
                                    }
                                },
                                {
                                    "name": "Limeroad MRP",
                                    "dtype": "object",
                                    "stats": {
                                        "unique_count": 56,
                                        "nan_count": 81,
                                        "categories": [
                                            {
                                                "name": "1895",
                                                "count": 137
                                            },
                                            {
                                                "name": "55 others",
                                                "count": 1512
                                            },
                                            {
                                                "name": "Missing",
                                                "count": 81
                                            }
                                        ]
                                    }
                                },
                                {
                                    "name": "Myntra MRP",
                                    "dtype": "object",
                                    "stats": {
                                        "unique_count": 55,
                                        "nan_count": 84,
                                        "categories": [
                                            {
                                                "name": "1895",
                                                "count": 173
                                            },
                                            {
                                                "name": "54 others",
                                                "count": 1473
                                            },
                                            {
                                                "name": "Missing",
                                                "count": 84
                                            }
                                        ]
                                    }
                                },
                                {
                                    "name": "Paytm MRP",
                                    "dtype": "object",
                                    "stats": {
                                        "unique_count": 56,
                                        "nan_count": 92,
                                        "categories": [
                                            {
                                                "name": "1895",
                                                "count": 187
                                            },
                                            {
                                                "name": "55 others",
                                                "count": 1451
                                            },
                                            {
                                                "name": "Missing",
                                                "count": 92
                                            }
                                        ]
                                    }
                                },
                                {
                                    "name": "Snapdeal MRP",
                                    "dtype": "object",
                                    "stats": {
                                        "unique_count": 56,
                                        "nan_count": 79,
                                        "categories": [
                                            {
                                                "name": "1695",
                                                "count": 159
                                            },
                                            {
                                                "name": "55 others",
                                                "count": 1492
                                            },
                                            {
                                                "name": "Missing",
                                                "count": 79
                                            }
                                        ]
                                    }
                                },
                                {
                                    "name": "_deepnote_index_column",
                                    "dtype": "int64"
                                }
                            ],
                            "rows": [
                                {
                                    "_id": "672c45c74dff41a157eca827",
                                    "index": 0,
                                    "Sku": "Os206_3141_S",
                                    "Style Id": "Os206_3141",
                                    "Catalog": "Moments",
                                    "Category": "Kurta",
                                    "Weight": "0.3",
                                    "TP 1": "538",
                                    "TP 2": "435.78",
                                    "MRP Old": "2178",
                                    "Final MRP Old": "2295",
                                    "Ajio MRP": "2295",
                                    "Amazon MRP": "2295",
                                    "Amazon FBA MRP": "2295",
                                    "Flipkart MRP": "2295",
                                    "Limeroad MRP": "2295",
                                    "Myntra MRP": "2295",
                                    "Paytm MRP": "2295",
                                    "Snapdeal MRP": "2295",
                                    "_deepnote_index_column": 0
                                },
                                {
                                    "_id": "672c45c74dff41a157eca828",
                                    "index": 1,
                                    "Sku": "Os206_3141_M",
                                    "Style Id": "Os206_3141",
                                    "Catalog": "Moments",
                                    "Category": "Kurta",
                                    "Weight": "0.3",
                                    "TP 1": "538",
                                    "TP 2": "435.78",
                                    "MRP Old": "2178",
                                    "Final MRP Old": "2295",
                                    "Ajio MRP": "2295",
                                    "Amazon MRP": "2295",
                                    "Amazon FBA MRP": "2295",
                                    "Flipkart MRP": "2295",
                                    "Limeroad MRP": "2295",
                                    "Myntra MRP": "2295",
                                    "Paytm MRP": "2295",
                                    "Snapdeal MRP": "2295",
                                    "_deepnote_index_column": 1
                                },
                                {
                                    "_id": "672c45c74dff41a157eca829",
                                    "index": 2,
                                    "Sku": "Os206_3141_L",
                                    "Style Id": "Os206_3141",
                                    "Catalog": "Moments",
                                    "Category": "Kurta",
                                    "Weight": "0.3",
                                    "TP 1": "538",
                                    "TP 2": "435.78",
                                    "MRP Old": "2178",
                                    "Final MRP Old": "2295",
                                    "Ajio MRP": "2295",
                                    "Amazon MRP": "2295",
                                    "Amazon FBA MRP": "2295",
                                    "Flipkart MRP": "2295",
                                    "Limeroad MRP": "2295",
                                    "Myntra MRP": "2295",
                                    "Paytm MRP": "2295",
                                    "Snapdeal MRP": "2295",
                                    "_deepnote_index_column": 2
                                },
                                {
                                    "_id": "672c45c74dff41a157eca82a",
                                    "index": 1199,
                                    "Sku": "dirty_sku_200",
                                    "Style Id": "dirty_style_200",
                                    "Catalog": "Random",
                                    "Category": "None",
                                    "Weight": "0.3",
                                    "TP 1": "500",
                                    "TP 2": "435.78",
                                    "MRP Old": "None",
                                    "Final MRP Old": "error",
                                    "Ajio MRP": "error",
                                    "Amazon MRP": "2200",
                                    "Amazon FBA MRP": "None",
                                    "Flipkart MRP": "2000",
                                    "Limeroad MRP": "None",
                                    "Myntra MRP": "2500",
                                    "Paytm MRP": "None",
                                    "Snapdeal MRP": "None",
                                    "_deepnote_index_column": 3
                                },
                                {
                                    "_id": "672c45c74dff41a157eca82b",
                                    "index": 3,
                                    "Sku": "Os206_3141_XL",
                                    "Style Id": "Os206_3141",
                                    "Catalog": "Moments",
                                    "Category": "Kurta",
                                    "Weight": "0.3",
                                    "TP 1": "538",
                                    "TP 2": "435.78",
                                    "MRP Old": "2178",
                                    "Final MRP Old": "2295",
                                    "Ajio MRP": "2295",
                                    "Amazon MRP": "2295",
                                    "Amazon FBA MRP": "2295",
                                    "Flipkart MRP": "2295",
                                    "Limeroad MRP": "2295",
                                    "Myntra MRP": "2295",
                                    "Paytm MRP": "2295",
                                    "Snapdeal MRP": "2295",
                                    "_deepnote_index_column": 4
                                },
                                {
                                    "_id": "672c45c74dff41a157eca82c",
                                    "index": 4,
                                    "Sku": "Os206_3141_2XL",
                                    "Style Id": "Os206_3141",
                                    "Catalog": "Moments",
                                    "Category": "Kurta",
                                    "Weight": "0.3",
                                    "TP 1": "538",
                                    "TP 2": "435.78",
                                    "MRP Old": "2178",
                                    "Final MRP Old": "2295",
                                    "Ajio MRP": "2295",
                                    "Amazon MRP": "2295",
                                    "Amazon FBA MRP": "2295",
                                    "Flipkart MRP": "2295",
                                    "Limeroad MRP": "2295",
                                    "Myntra MRP": "2295",
                                    "Paytm MRP": "2295",
                                    "Snapdeal MRP": "2295",
                                    "_deepnote_index_column": 5
                                },
                                {
                                    "_id": "672c45c74dff41a157eca82d",
                                    "index": 5,
                                    "Sku": "Os206_3141_3XL",
                                    "Style Id": "Os206_3141",
                                    "Catalog": "Moments",
                                    "Category": "Kurta",
                                    "Weight": "0.3",
                                    "TP 1": "538",
                                    "TP 2": "435.78",
                                    "MRP Old": "2178",
                                    "Final MRP Old": "2295",
                                    "Ajio MRP": "2295",
                                    "Amazon MRP": "2295",
                                    "Amazon FBA MRP": "2295",
                                    "Flipkart MRP": "2295",
                                    "Limeroad MRP": "2295",
                                    "Myntra MRP": "2295",
                                    "Paytm MRP": "2295",
                                    "Snapdeal MRP": "2295",
                                    "_deepnote_index_column": 6
                                },
                                {
                                    "_id": "672c45c74dff41a157eca82e",
                                    "index": 6,
                                    "Sku": "Os223_3142_S",
                                    "Style Id": "Os223_3142",
                                    "Catalog": "Moments",
                                    "Category": "Kurta",
                                    "Weight": "0.3",
                                    "TP 1": "538",
                                    "TP 2": "435.78",
                                    "MRP Old": "2178",
                                    "Final MRP Old": "2295",
                                    "Ajio MRP": "2295",
                                    "Amazon MRP": "2295",
                                    "Amazon FBA MRP": "2295",
                                    "Flipkart MRP": "2295",
                                    "Limeroad MRP": "2295",
                                    "Myntra MRP": "2295",
                                    "Paytm MRP": "2295",
                                    "Snapdeal MRP": "2295",
                                    "_deepnote_index_column": 7
                                },
                                {
                                    "_id": "672c45c74dff41a157eca82f",
                                    "index": 7,
                                    "Sku": "Os223_3142_M",
                                    "Style Id": "Os223_3142",
                                    "Catalog": "Moments",
                                    "Category": "Kurta",
                                    "Weight": "0.3",
                                    "TP 1": "538",
                                    "TP 2": "435.78",
                                    "MRP Old": "2178",
                                    "Final MRP Old": "2295",
                                    "Ajio MRP": "2295",
                                    "Amazon MRP": "2295",
                                    "Amazon FBA MRP": "2295",
                                    "Flipkart MRP": "2295",
                                    "Limeroad MRP": "2295",
                                    "Myntra MRP": "2295",
                                    "Paytm MRP": "2295",
                                    "Snapdeal MRP": "2295",
                                    "_deepnote_index_column": 8
                                },
                                {
                                    "_id": "672c45c74dff41a157eca830",
                                    "index": 8,
                                    "Sku": "Os223_3142_L",
                                    "Style Id": "Os223_3142",
                                    "Catalog": "Moments",
                                    "Category": "Kurta",
                                    "Weight": "0.3",
                                    "TP 1": "538",
                                    "TP 2": "435.78",
                                    "MRP Old": "2178",
                                    "Final MRP Old": "2295",
                                    "Ajio MRP": "2295",
                                    "Amazon MRP": "2295",
                                    "Amazon FBA MRP": "2295",
                                    "Flipkart MRP": "2295",
                                    "Limeroad MRP": "2295",
                                    "Myntra MRP": "2295",
                                    "Paytm MRP": "2295",
                                    "Snapdeal MRP": "2295",
                                    "_deepnote_index_column": 9
                                }
                            ]
                        },
                        "text/plain": "                           _id  index            Sku         Style Id  \\\n0     672c45c74dff41a157eca827      0   Os206_3141_S       Os206_3141   \n1     672c45c74dff41a157eca828      1   Os206_3141_M       Os206_3141   \n2     672c45c74dff41a157eca829      2   Os206_3141_L       Os206_3141   \n3     672c45c74dff41a157eca82a   1199  dirty_sku_200  dirty_style_200   \n4     672c45c74dff41a157eca82b      3  Os206_3141_XL       Os206_3141   \n...                        ...    ...            ...              ...   \n1725  672c45c84dff41a157ecaee4   1326        Os326_L            Os326   \n1726  672c45c84dff41a157ecaee5   1193  dirty_sku_194  dirty_style_194   \n1727  672c45c84dff41a157ecaee6   1327       Os326_XL            Os326   \n1728  672c45c84dff41a157ecaee7   1328      Os326_2XL            Os326   \n1729  672c45c84dff41a157ecaee8   1329      Os326_3XL            Os326   \n\n      Catalog   Category Weight   TP 1     TP 2  MRP Old Final MRP Old  \\\n0     Moments      Kurta    0.3    538   435.78     2178          2295   \n1     Moments      Kurta    0.3    538   435.78     2178          2295   \n2     Moments      Kurta    0.3    538   435.78     2178          2295   \n3      Random       None    0.3    500   435.78     None         error   \n4     Moments      Kurta    0.3    538   435.78     2178          2295   \n...       ...        ...    ...    ...      ...      ...           ...   \n1725      Mix      Kurta    0.3    467   378.27     1878          1995   \n1726  Unknown  Accessory    0.5  error  missing  missing          None   \n1727      Mix      Kurta    0.3    467   378.27     1878          1995   \n1728      Mix      Kurta    0.3    467   378.27     1878          1995   \n1729      Mix      Kurta    0.3    467   378.27     1878          1995   \n\n     Ajio MRP Amazon MRP Amazon FBA MRP Flipkart MRP Limeroad MRP Myntra MRP  \\\n0        2295       2295           2295         2295         2295       2295   \n1        2295       2295           2295         2295         2295       2295   \n2        2295       2295           2295         2295         2295       2295   \n3       error       2200           None         2000         None       2500   \n4        2295       2295           2295         2295         2295       2295   \n...       ...        ...            ...          ...          ...        ...   \n1725     1995       1995           1995         1995         1995       1995   \n1726    error       2400           None      missing         None    missing   \n1727     1995       1995           1995         1995         1995       1995   \n1728     1995       1995           1995         1995         1995       1995   \n1729     1995       1995           1995         1995         1995       1995   \n\n     Paytm MRP Snapdeal MRP  \n0         2295         2295  \n1         2295         2295  \n2         2295         2295  \n3         None         None  \n4         2295         2295  \n...        ...          ...  \n1725      1995         1995  \n1726     error         None  \n1727      1995         1995  \n1728      1995         1995  \n1729      1995         1995  \n\n[1730 rows x 19 columns]",
                        "text/html": "<div>\n<style scoped>\n    .dataframe tbody tr th:only-of-type {\n        vertical-align: middle;\n    }\n\n    .dataframe tbody tr th {\n        vertical-align: top;\n    }\n\n    .dataframe thead th {\n        text-align: right;\n    }\n</style>\n<table border=\"1\" class=\"dataframe\">\n  <thead>\n    <tr style=\"text-align: right;\">\n      <th></th>\n      <th>_id</th>\n      <th>index</th>\n      <th>Sku</th>\n      <th>Style Id</th>\n      <th>Catalog</th>\n      <th>Category</th>\n      <th>Weight</th>\n      <th>TP 1</th>\n      <th>TP 2</th>\n      <th>MRP Old</th>\n      <th>Final MRP Old</th>\n      <th>Ajio MRP</th>\n      <th>Amazon MRP</th>\n      <th>Amazon FBA MRP</th>\n      <th>Flipkart MRP</th>\n      <th>Limeroad MRP</th>\n      <th>Myntra MRP</th>\n      <th>Paytm MRP</th>\n      <th>Snapdeal MRP</th>\n    </tr>\n  </thead>\n  <tbody>\n    <tr>\n      <th>0</th>\n      <td>672c45c74dff41a157eca827</td>\n      <td>0</td>\n      <td>Os206_3141_S</td>\n      <td>Os206_3141</td>\n      <td>Moments</td>\n      <td>Kurta</td>\n      <td>0.3</td>\n      <td>538</td>\n      <td>435.78</td>\n      <td>2178</td>\n      <td>2295</td>\n      <td>2295</td>\n      <td>2295</td>\n      <td>2295</td>\n      <td>2295</td>\n      <td>2295</td>\n      <td>2295</td>\n      <td>2295</td>\n      <td>2295</td>\n    </tr>\n    <tr>\n      <th>1</th>\n      <td>672c45c74dff41a157eca828</td>\n      <td>1</td>\n      <td>Os206_3141_M</td>\n      <td>Os206_3141</td>\n      <td>Moments</td>\n      <td>Kurta</td>\n      <td>0.3</td>\n      <td>538</td>\n      <td>435.78</td>\n      <td>2178</td>\n      <td>2295</td>\n      <td>2295</td>\n      <td>2295</td>\n      <td>2295</td>\n      <td>2295</td>\n      <td>2295</td>\n      <td>2295</td>\n      <td>2295</td>\n      <td>2295</td>\n    </tr>\n    <tr>\n      <th>2</th>\n      <td>672c45c74dff41a157eca829</td>\n      <td>2</td>\n      <td>Os206_3141_L</td>\n      <td>Os206_3141</td>\n      <td>Moments</td>\n      <td>Kurta</td>\n      <td>0.3</td>\n      <td>538</td>\n      <td>435.78</td>\n      <td>2178</td>\n      <td>2295</td>\n      <td>2295</td>\n      <td>2295</td>\n      <td>2295</td>\n      <td>2295</td>\n      <td>2295</td>\n      <td>2295</td>\n      <td>2295</td>\n      <td>2295</td>\n    </tr>\n    <tr>\n      <th>3</th>\n      <td>672c45c74dff41a157eca82a</td>\n      <td>1199</td>\n      <td>dirty_sku_200</td>\n      <td>dirty_style_200</td>\n      <td>Random</td>\n      <td>None</td>\n      <td>0.3</td>\n      <td>500</td>\n      <td>435.78</td>\n      <td>None</td>\n      <td>error</td>\n      <td>error</td>\n      <td>2200</td>\n      <td>None</td>\n      <td>2000</td>\n      <td>None</td>\n      <td>2500</td>\n      <td>None</td>\n      <td>None</td>\n    </tr>\n    <tr>\n      <th>4</th>\n      <td>672c45c74dff41a157eca82b</td>\n      <td>3</td>\n      <td>Os206_3141_XL</td>\n      <td>Os206_3141</td>\n      <td>Moments</td>\n      <td>Kurta</td>\n      <td>0.3</td>\n      <td>538</td>\n      <td>435.78</td>\n      <td>2178</td>\n      <td>2295</td>\n      <td>2295</td>\n      <td>2295</td>\n      <td>2295</td>\n      <td>2295</td>\n      <td>2295</td>\n      <td>2295</td>\n      <td>2295</td>\n      <td>2295</td>\n    </tr>\n    <tr>\n      <th>...</th>\n      <td>...</td>\n      <td>...</td>\n      <td>...</td>\n      <td>...</td>\n      <td>...</td>\n      <td>...</td>\n      <td>...</td>\n      <td>...</td>\n      <td>...</td>\n      <td>...</td>\n      <td>...</td>\n      <td>...</td>\n      <td>...</td>\n      <td>...</td>\n      <td>...</td>\n      <td>...</td>\n      <td>...</td>\n      <td>...</td>\n      <td>...</td>\n    </tr>\n    <tr>\n      <th>1725</th>\n      <td>672c45c84dff41a157ecaee4</td>\n      <td>1326</td>\n      <td>Os326_L</td>\n      <td>Os326</td>\n      <td>Mix</td>\n      <td>Kurta</td>\n      <td>0.3</td>\n      <td>467</td>\n      <td>378.27</td>\n      <td>1878</td>\n      <td>1995</td>\n      <td>1995</td>\n      <td>1995</td>\n      <td>1995</td>\n      <td>1995</td>\n      <td>1995</td>\n      <td>1995</td>\n      <td>1995</td>\n      <td>1995</td>\n    </tr>\n    <tr>\n      <th>1726</th>\n      <td>672c45c84dff41a157ecaee5</td>\n      <td>1193</td>\n      <td>dirty_sku_194</td>\n      <td>dirty_style_194</td>\n      <td>Unknown</td>\n      <td>Accessory</td>\n      <td>0.5</td>\n      <td>error</td>\n      <td>missing</td>\n      <td>missing</td>\n      <td>None</td>\n      <td>error</td>\n      <td>2400</td>\n      <td>None</td>\n      <td>missing</td>\n      <td>None</td>\n      <td>missing</td>\n      <td>error</td>\n      <td>None</td>\n    </tr>\n    <tr>\n      <th>1727</th>\n      <td>672c45c84dff41a157ecaee6</td>\n      <td>1327</td>\n      <td>Os326_XL</td>\n      <td>Os326</td>\n      <td>Mix</td>\n      <td>Kurta</td>\n      <td>0.3</td>\n      <td>467</td>\n      <td>378.27</td>\n      <td>1878</td>\n      <td>1995</td>\n      <td>1995</td>\n      <td>1995</td>\n      <td>1995</td>\n      <td>1995</td>\n      <td>1995</td>\n      <td>1995</td>\n      <td>1995</td>\n      <td>1995</td>\n    </tr>\n    <tr>\n      <th>1728</th>\n      <td>672c45c84dff41a157ecaee7</td>\n      <td>1328</td>\n      <td>Os326_2XL</td>\n      <td>Os326</td>\n      <td>Mix</td>\n      <td>Kurta</td>\n      <td>0.3</td>\n      <td>467</td>\n      <td>378.27</td>\n      <td>1878</td>\n      <td>1995</td>\n      <td>1995</td>\n      <td>1995</td>\n      <td>1995</td>\n      <td>1995</td>\n      <td>1995</td>\n      <td>1995</td>\n      <td>1995</td>\n      <td>1995</td>\n    </tr>\n    <tr>\n      <th>1729</th>\n      <td>672c45c84dff41a157ecaee8</td>\n      <td>1329</td>\n      <td>Os326_3XL</td>\n      <td>Os326</td>\n      <td>Mix</td>\n      <td>Kurta</td>\n      <td>0.3</td>\n      <td>467</td>\n      <td>378.27</td>\n      <td>1878</td>\n      <td>1995</td>\n      <td>1995</td>\n      <td>1995</td>\n      <td>1995</td>\n      <td>1995</td>\n      <td>1995</td>\n      <td>1995</td>\n      <td>1995</td>\n      <td>1995</td>\n    </tr>\n  </tbody>\n</table>\n<p>1730 rows × 19 columns</p>\n</div>"
                    },
                    "metadata": {}
                }
            ],
            "outputs_reference": "s3:deepnote-cell-outputs-production/6854e102-b60d-4ab2-9990-64e9c73d63f7",
            "content_dependencies": null
        },
        {
            "cell_type": "code",
            "metadata": {
                "source_hash": "edc08bda",
                "execution_start": 1733703323193,
                "execution_millis": 0,
                "deepnote_table_state": {
                    "sortBy": [],
                    "filters": [],
                    "pageSize": 10,
                    "pageIndex": 6,
                    "conditionalFilters": [],
                    "wrappedTextColumnIds": []
                },
                "execution_context_id": "64931ff0-96a0-406e-a43a-1a91dcd0f193",
                "deepnote_table_loading": false,
                "deepnote_app_block_visible": true,
                "deepnote_app_is_code_hidden": true,
                "deepnote_app_is_output_hidden": false,
                "cell_id": "527a7acf61aa4972b2ad9693def8c35f",
                "deepnote_cell_type": "code"
            },
            "source": "dfMarch.replace(\"Nill\", np.nan, inplace=True)\n\n#Cleaning Catalog Col\ndfMarch['Catalog'] = dfMarch['Catalog'].replace([None, np.nan], 'Missing')\ndfMarch['Catalog'] = dfMarch['Catalog'].replace(['Unknown', 'Random'], 'Uncategorized')\n#dfMarch['Catalog'] = dfMarch['Catalog'].str.replace(r'Colors-\\d+', 'Colors', regex=True) # Replace Colors-8 and Colors 7 with 'Colors'\ndfMarch['Catalog'].unique()\n\n#Cleaning Category Col\ndfMarch['Category'] = dfMarch[\"Category\"].replace([None, np.nan], 'Missing')\n",
            "block_group": "9b1292f54ad44243b08aa8132db20bf6",
            "execution_count": 6,
            "outputs": [],
            "outputs_reference": null,
            "content_dependencies": null
        },
        {
            "cell_type": "markdown",
            "metadata": {
                "formattedRanges": [],
                "deepnote_app_block_visible": true,
                "cell_id": "a352ddcbcd17408ba99c0db672ef3b79",
                "deepnote_cell_type": "text-cell-p"
            },
            "source": "",
            "block_group": "9afc109427a14e39b34da03036e3da40"
        },
        {
            "cell_type": "code",
            "metadata": {
                "source_hash": "9b519b7c",
                "execution_start": 1733703323241,
                "execution_millis": 1,
                "execution_context_id": "64931ff0-96a0-406e-a43a-1a91dcd0f193",
                "deepnote_app_block_visible": true,
                "deepnote_app_is_code_hidden": true,
                "deepnote_app_is_output_hidden": false,
                "cell_id": "256c3b6871984ab09a665800c345d054",
                "deepnote_cell_type": "code"
            },
            "source": "#Cleaning all Float Columns\ncleaning_float_col(dfMarch,'Weight')\ncleaning_float_col(dfMarch,'TP 1')\ncleaning_float_col(dfMarch,'TP 2')\ncleaning_float_col(dfMarch,'MRP Old')\ncleaning_float_col(dfMarch,'Final MRP Old')\ncleaning_float_col(dfMarch,'Ajio MRP')\ncleaning_float_col(dfMarch,'Amazon MRP')\ncleaning_float_col(dfMarch,'Amazon FBA MRP')\ncleaning_float_col(dfMarch,'Flipkart MRP')\ncleaning_float_col(dfMarch,'Limeroad MRP')\ncleaning_float_col(dfMarch,'Myntra MRP')\ncleaning_float_col(dfMarch,'Paytm MRP')\ncleaning_float_col(dfMarch,'Snapdeal MRP')",
            "block_group": "70491fe768ee46dca5493287e01b3f7f",
            "execution_count": 7,
            "outputs": [],
            "outputs_reference": null,
            "content_dependencies": null
        },
        {
            "cell_type": "markdown",
            "metadata": {
                "formattedRanges": [],
                "deepnote_app_block_visible": true,
                "cell_id": "3693c4caf1954492b8a1084c5a4eb9f1",
                "deepnote_cell_type": "text-cell-h1"
            },
            "source": "# Cleaning Sales-May-2022\r",
            "block_group": "52020f6225c544aebb4f05fab962d4c6"
        },
        {
            "cell_type": "code",
            "metadata": {
                "source_hash": "da7ba7d8",
                "execution_start": 1733703323293,
                "execution_millis": 0,
                "execution_context_id": "64931ff0-96a0-406e-a43a-1a91dcd0f193",
                "deepnote_app_block_visible": true,
                "deepnote_app_is_code_hidden": true,
                "deepnote_app_is_output_hidden": false,
                "cell_id": "c3f9a802e33d4315a3b2e4d747a03778",
                "deepnote_cell_type": "code"
            },
            "source": "sales_report_may = db['Sales-May-2022'].find() \ndfMay = pd.DataFrame(list(sales_report_may))\n",
            "block_group": "8ac50879e6c3406abb5889cb09ae0458",
            "execution_count": 8,
            "outputs": [],
            "outputs_reference": null,
            "content_dependencies": null
        },
        {
            "cell_type": "code",
            "metadata": {
                "source_hash": "e8367f43",
                "execution_start": 1733703323349,
                "execution_millis": 0,
                "execution_context_id": "64931ff0-96a0-406e-a43a-1a91dcd0f193",
                "deepnote_app_block_visible": true,
                "deepnote_app_is_code_hidden": true,
                "deepnote_app_is_output_hidden": false,
                "cell_id": "64c5252ebb824455ae1d3d70d3981d5f",
                "deepnote_cell_type": "code"
            },
            "source": "dfMay.replace(\"Nill\", np.nan, inplace=True)\n\n#Cleaning Catalog Col\ndfMay['Catalog'] = dfMay['Catalog'].replace([None, np.nan], 'Missing')\ndfMay['Catalog'] = dfMay['Catalog'].replace(['Unknown', 'Random'], 'Uncategorized')\n\n\n#Cleaning Category Col\ndfMay['Category'] = dfMay[\"Category\"].replace([None, np.nan], 'Missing')",
            "block_group": "9979551d92f34dbd8dfebb7e3d14ba98",
            "execution_count": 9,
            "outputs": [],
            "outputs_reference": null,
            "content_dependencies": null
        },
        {
            "cell_type": "code",
            "metadata": {
                "source_hash": "2a67b9",
                "execution_start": 1733703323397,
                "execution_millis": 0,
                "execution_context_id": "64931ff0-96a0-406e-a43a-1a91dcd0f193",
                "deepnote_app_block_visible": true,
                "deepnote_app_is_code_hidden": true,
                "deepnote_app_is_output_hidden": false,
                "cell_id": "81a2025d654647e094fba4fabbfdeea3",
                "deepnote_cell_type": "code"
            },
            "source": "cleaning_float_col(dfMay,'Weight')\ncleaning_float_col(dfMay,'TP')\ncleaning_float_col(dfMay,'MRP Old')\ncleaning_float_col(dfMay,'Final MRP Old')\ncleaning_float_col(dfMay,'Ajio MRP')\ncleaning_float_col(dfMay,'Amazon MRP')\ncleaning_float_col(dfMay,'Amazon FBA MRP')\ncleaning_float_col(dfMay,'Flipkart MRP')\ncleaning_float_col(dfMay,'Limeroad MRP')\ncleaning_float_col(dfMay,'Myntra MRP')\ncleaning_float_col(dfMay,'Paytm MRP')\ncleaning_float_col(dfMay,'Snapdeal MRP')\n\n",
            "block_group": "9375959a3cf845abbd27c44ca1dc146b",
            "execution_count": 10,
            "outputs": [],
            "outputs_reference": null,
            "content_dependencies": null
        },
        {
            "cell_type": "markdown",
            "metadata": {
                "formattedRanges": [],
                "deepnote_app_block_visible": true,
                "cell_id": "1446d9d7cc414eaaa7ef5d6e3e7a0372",
                "deepnote_cell_type": "text-cell-h1"
            },
            "source": "# Cleaning Sales-Report\r",
            "block_group": "c815e93e657444718893ca096f66714f"
        },
        {
            "cell_type": "code",
            "metadata": {
                "source_hash": "ac0a33c5",
                "execution_start": 1733703323449,
                "execution_millis": 27,
                "execution_context_id": "64931ff0-96a0-406e-a43a-1a91dcd0f193",
                "deepnote_app_block_visible": true,
                "deepnote_app_is_code_hidden": true,
                "deepnote_app_is_output_hidden": false,
                "cell_id": "cc2b7e7291754632a8a918e91b841b86",
                "deepnote_cell_type": "code"
            },
            "source": "sales_report = db['Sales-Report'].find() \ndfSalesReport = pd.DataFrame(list(sales_report))\n",
            "block_group": "d63dff7f4c944dc9833add0d7949445b",
            "execution_count": 11,
            "outputs": [],
            "outputs_reference": null,
            "content_dependencies": null
        },
        {
            "cell_type": "code",
            "metadata": {
                "source_hash": "21a6a510",
                "execution_start": 1733703323521,
                "execution_millis": 42,
                "deepnote_table_state": {
                    "sortBy": [],
                    "filters": [],
                    "conditionalFilters": [
                        {
                            "column": "SKU Code",
                            "operator": "text-does-not-contain",
                            "comparativeValues": [
                                "AN201"
                            ]
                        },
                        {
                            "column": "SKU Code",
                            "operator": "text-does-not-contain",
                            "comparativeValues": [
                                "AN"
                            ]
                        }
                    ]
                },
                "execution_context_id": "64931ff0-96a0-406e-a43a-1a91dcd0f193",
                "deepnote_table_loading": false,
                "deepnote_app_block_visible": true,
                "deepnote_app_is_code_hidden": true,
                "deepnote_app_is_output_hidden": false,
                "cell_id": "0f53429f4b8d4f72aabb1769719c8aeb",
                "deepnote_cell_type": "code"
            },
            "source": "dfSalesReport = dfSalesReport.rename(columns={'Design No.': 'Design Num'})\ndfSalesReport",
            "block_group": "40f05a44be6645c6b5776a885c0659fe",
            "execution_count": 12,
            "outputs": [
                {
                    "output_type": "execute_result",
                    "execution_count": 12,
                    "data": {
                        "application/vnd.deepnote.dataframe.v3+json": {
                            "column_count": 8,
                            "row_count": 8892,
                            "columns": [
                                {
                                    "name": "_id",
                                    "dtype": "object",
                                    "stats": {
                                        "unique_count": 8892,
                                        "nan_count": 0,
                                        "categories": [
                                            {
                                                "name": "672d26ee5b46a7edd82c73c0",
                                                "count": 1
                                            },
                                            {
                                                "name": "672d26ee5b46a7edd82c73ce",
                                                "count": 1
                                            },
                                            {
                                                "name": "8890 others",
                                                "count": 8890
                                            }
                                        ]
                                    }
                                },
                                {
                                    "name": "index",
                                    "dtype": "int64",
                                    "stats": {
                                        "unique_count": 8892,
                                        "nan_count": 0,
                                        "min": "23",
                                        "max": "9270",
                                        "histogram": [
                                            {
                                                "bin_start": 23,
                                                "bin_end": 947.7,
                                                "count": 885
                                            },
                                            {
                                                "bin_start": 947.7,
                                                "bin_end": 1872.4,
                                                "count": 925
                                            },
                                            {
                                                "bin_start": 1872.4,
                                                "bin_end": 2797.1000000000004,
                                                "count": 925
                                            },
                                            {
                                                "bin_start": 2797.1000000000004,
                                                "bin_end": 3721.8,
                                                "count": 613
                                            },
                                            {
                                                "bin_start": 3721.8,
                                                "bin_end": 4646.5,
                                                "count": 925
                                            },
                                            {
                                                "bin_start": 4646.5,
                                                "bin_end": 5571.200000000001,
                                                "count": 925
                                            },
                                            {
                                                "bin_start": 5571.200000000001,
                                                "bin_end": 6495.900000000001,
                                                "count": 924
                                            },
                                            {
                                                "bin_start": 6495.900000000001,
                                                "bin_end": 7420.6,
                                                "count": 920
                                            },
                                            {
                                                "bin_start": 7420.6,
                                                "bin_end": 8345.300000000001,
                                                "count": 925
                                            },
                                            {
                                                "bin_start": 8345.300000000001,
                                                "bin_end": 9270,
                                                "count": 925
                                            }
                                        ]
                                    }
                                },
                                {
                                    "name": "SKU Code",
                                    "dtype": "object",
                                    "stats": {
                                        "unique_count": 8789,
                                        "nan_count": 82,
                                        "categories": [
                                            {
                                                "name": "#REF!",
                                                "count": 15
                                            },
                                            {
                                                "name": "8788 others",
                                                "count": 8795
                                            },
                                            {
                                                "name": "Missing",
                                                "count": 82
                                            }
                                        ]
                                    }
                                },
                                {
                                    "name": "Design Num",
                                    "dtype": "object",
                                    "stats": {
                                        "unique_count": 1531,
                                        "nan_count": 36,
                                        "categories": [
                                            {
                                                "name": "J0096",
                                                "count": 10
                                            },
                                            {
                                                "name": "1530 others",
                                                "count": 8846
                                            },
                                            {
                                                "name": "Missing",
                                                "count": 36
                                            }
                                        ]
                                    }
                                },
                                {
                                    "name": "Stock",
                                    "dtype": "float64",
                                    "stats": {
                                        "unique_count": 297,
                                        "nan_count": 34,
                                        "min": "-999.0",
                                        "max": "99999.0",
                                        "histogram": [
                                            {
                                                "bin_start": -999,
                                                "bin_end": 9100.8,
                                                "count": 8743
                                            },
                                            {
                                                "bin_start": 9100.8,
                                                "bin_end": 19200.6,
                                                "count": 62
                                            },
                                            {
                                                "bin_start": 19200.6,
                                                "bin_end": 29300.399999999998,
                                                "count": 0
                                            },
                                            {
                                                "bin_start": 29300.399999999998,
                                                "bin_end": 39400.2,
                                                "count": 0
                                            },
                                            {
                                                "bin_start": 39400.2,
                                                "bin_end": 49500,
                                                "count": 0
                                            },
                                            {
                                                "bin_start": 49500,
                                                "bin_end": 59599.799999999996,
                                                "count": 0
                                            },
                                            {
                                                "bin_start": 59599.799999999996,
                                                "bin_end": 69699.59999999999,
                                                "count": 0
                                            },
                                            {
                                                "bin_start": 69699.59999999999,
                                                "bin_end": 79799.4,
                                                "count": 0
                                            },
                                            {
                                                "bin_start": 79799.4,
                                                "bin_end": 89899.2,
                                                "count": 0
                                            },
                                            {
                                                "bin_start": 89899.2,
                                                "bin_end": 99999,
                                                "count": 53
                                            }
                                        ]
                                    }
                                },
                                {
                                    "name": "Category",
                                    "dtype": "object",
                                    "stats": {
                                        "unique_count": 21,
                                        "nan_count": 45,
                                        "categories": [
                                            {
                                                "name": "KURTA",
                                                "count": 3653
                                            },
                                            {
                                                "name": "20 others",
                                                "count": 5194
                                            },
                                            {
                                                "name": "Missing",
                                                "count": 45
                                            }
                                        ]
                                    }
                                },
                                {
                                    "name": "Size",
                                    "dtype": "object",
                                    "stats": {
                                        "unique_count": 14,
                                        "nan_count": 34,
                                        "categories": [
                                            {
                                                "name": "S",
                                                "count": 1239
                                            },
                                            {
                                                "name": "13 others",
                                                "count": 7619
                                            },
                                            {
                                                "name": "Missing",
                                                "count": 34
                                            }
                                        ]
                                    }
                                },
                                {
                                    "name": "Color",
                                    "dtype": "object",
                                    "stats": {
                                        "unique_count": 64,
                                        "nan_count": 102,
                                        "categories": [
                                            {
                                                "name": "Blue",
                                                "count": 742
                                            },
                                            {
                                                "name": "63 others",
                                                "count": 8048
                                            },
                                            {
                                                "name": "Missing",
                                                "count": 102
                                            }
                                        ]
                                    }
                                },
                                {
                                    "name": "_deepnote_index_column",
                                    "dtype": "int64"
                                }
                            ],
                            "rows": [
                                {
                                    "_id": "672d26ee5b46a7edd82c73c0",
                                    "index": 23,
                                    "SKU Code": "INVALID-9635",
                                    "Design Num": "AN205",
                                    "Stock": 7,
                                    "Category": "AN : LEGGINGS",
                                    "Size": "XL",
                                    "Color": "Yellow",
                                    "_deepnote_index_column": 23
                                },
                                {
                                    "_id": "672d26ee5b46a7edd82c73ce",
                                    "index": 37,
                                    "SKU Code": "INVALID-7034",
                                    "Design Num": "AN209",
                                    "Stock": 4,
                                    "Category": "AN : LEGGINGS",
                                    "Size": "S",
                                    "Color": "Beige",
                                    "_deepnote_index_column": 37
                                },
                                {
                                    "_id": "672d26ee5b46a7edd82c73e5",
                                    "index": 60,
                                    "SKU Code": "BL001-50PINK",
                                    "Design Num": "BL001",
                                    "Stock": 33,
                                    "Category": "BLOUSE",
                                    "Size": "FREE",
                                    "Color": "Pink",
                                    "_deepnote_index_column": 60
                                },
                                {
                                    "_id": "672d26ee5b46a7edd82c73e6",
                                    "index": 61,
                                    "SKU Code": "BL003-50BLACK",
                                    "Design Num": "BL003",
                                    "Stock": 117,
                                    "Category": "BLOUSE",
                                    "Size": "FREE",
                                    "Color": "Black",
                                    "_deepnote_index_column": 61
                                },
                                {
                                    "_id": "672d26ee5b46a7edd82c73e7",
                                    "index": 62,
                                    "SKU Code": "BL004-50CHIKU",
                                    "Design Num": "BL004",
                                    "Stock": 38,
                                    "Category": "BLOUSE",
                                    "Size": "FREE",
                                    "Color": "Beige",
                                    "_deepnote_index_column": 62
                                },
                                {
                                    "_id": "672d26ee5b46a7edd82c73e8",
                                    "index": 63,
                                    "SKU Code": "BL005-54RED",
                                    "Design Num": "BL005",
                                    "Stock": 16,
                                    "Category": "BLOUSE",
                                    "Size": "FREE",
                                    "Color": "Red",
                                    "_deepnote_index_column": 63
                                },
                                {
                                    "_id": "672d26ee5b46a7edd82c73e9",
                                    "index": 64,
                                    "SKU Code": "BL006-54BLACK",
                                    "Design Num": "BL006",
                                    "Stock": 112,
                                    "Category": "BLOUSE",
                                    "Size": "FREE",
                                    "Color": "Black",
                                    "_deepnote_index_column": 64
                                },
                                {
                                    "_id": "672d26ee5b46a7edd82c73ea",
                                    "index": 65,
                                    "SKU Code": "#REF!",
                                    "Design Num": "BL006",
                                    "Stock": 0,
                                    "Category": "BLOUSE",
                                    "Size": "FREE",
                                    "Color": "Black",
                                    "_deepnote_index_column": 65
                                },
                                {
                                    "_id": "672d26ee5b46a7edd82c73eb",
                                    "index": 66,
                                    "SKU Code": "BL007-61PINK",
                                    "Design Num": "BL007",
                                    "Stock": 56,
                                    "Category": "BLOUSE",
                                    "Size": "FREE",
                                    "Color": "Pink",
                                    "_deepnote_index_column": 66
                                },
                                {
                                    "_id": "672d26ee5b46a7edd82c73ec",
                                    "index": 67,
                                    "SKU Code": "BL008-61RED",
                                    "Design Num": "BL008",
                                    "Stock": 35,
                                    "Category": "BLOUSE",
                                    "Size": "FREE",
                                    "Color": "Red",
                                    "_deepnote_index_column": 67
                                }
                            ]
                        },
                        "text/plain": "                           _id  index       SKU Code Design Num  Stock  \\\n0     672d26ee5b46a7edd82c73a9      0    AN201-RED-L      AN201    5.0   \n1     672d26ee5b46a7edd82c73aa      1    AN201-RED-M      AN201    5.0   \n2     672d26ee5b46a7edd82c73ab      2    AN201-RED-S      AN201    3.0   \n3     672d26ee5b46a7edd82c73ac      3   AN201-RED-XL      AN201 -999.0   \n4     672d26ee5b46a7edd82c73ad      4  AN201-RED-XXL      AN201    3.0   \n...                        ...    ...            ...        ...    ...   \n9266  672d26f15b46a7edd82c97db   9266           None       None    NaN   \n9267  672d26f15b46a7edd82c97dc   9267           None       None    NaN   \n9268  672d26f15b46a7edd82c97dd   9268           None       None    NaN   \n9269  672d26f15b46a7edd82c97de   9269           None       None    NaN   \n9270  672d26f15b46a7edd82c97df   9270           None       None    NaN   \n\n           Category  Size Color  \n0     AN : LEGGINGS     L   Red  \n1     AN : LEGGINGS     M   Red  \n2     AN : LEGGINGS     S   Red  \n3     AN : LEGGINGS    XL   Red  \n4     AN : LEGGINGS   XXL   Red  \n...             ...   ...   ...  \n9266           None  None  None  \n9267           None  None  None  \n9268           None  None  None  \n9269           None  XXXS  None  \n9270           None  None  None  \n\n[9271 rows x 8 columns]",
                        "text/html": "<div>\n<style scoped>\n    .dataframe tbody tr th:only-of-type {\n        vertical-align: middle;\n    }\n\n    .dataframe tbody tr th {\n        vertical-align: top;\n    }\n\n    .dataframe thead th {\n        text-align: right;\n    }\n</style>\n<table border=\"1\" class=\"dataframe\">\n  <thead>\n    <tr style=\"text-align: right;\">\n      <th></th>\n      <th>_id</th>\n      <th>index</th>\n      <th>SKU Code</th>\n      <th>Design Num</th>\n      <th>Stock</th>\n      <th>Category</th>\n      <th>Size</th>\n      <th>Color</th>\n    </tr>\n  </thead>\n  <tbody>\n    <tr>\n      <th>0</th>\n      <td>672d26ee5b46a7edd82c73a9</td>\n      <td>0</td>\n      <td>AN201-RED-L</td>\n      <td>AN201</td>\n      <td>5.0</td>\n      <td>AN : LEGGINGS</td>\n      <td>L</td>\n      <td>Red</td>\n    </tr>\n    <tr>\n      <th>1</th>\n      <td>672d26ee5b46a7edd82c73aa</td>\n      <td>1</td>\n      <td>AN201-RED-M</td>\n      <td>AN201</td>\n      <td>5.0</td>\n      <td>AN : LEGGINGS</td>\n      <td>M</td>\n      <td>Red</td>\n    </tr>\n    <tr>\n      <th>2</th>\n      <td>672d26ee5b46a7edd82c73ab</td>\n      <td>2</td>\n      <td>AN201-RED-S</td>\n      <td>AN201</td>\n      <td>3.0</td>\n      <td>AN : LEGGINGS</td>\n      <td>S</td>\n      <td>Red</td>\n    </tr>\n    <tr>\n      <th>3</th>\n      <td>672d26ee5b46a7edd82c73ac</td>\n      <td>3</td>\n      <td>AN201-RED-XL</td>\n      <td>AN201</td>\n      <td>-999.0</td>\n      <td>AN : LEGGINGS</td>\n      <td>XL</td>\n      <td>Red</td>\n    </tr>\n    <tr>\n      <th>4</th>\n      <td>672d26ee5b46a7edd82c73ad</td>\n      <td>4</td>\n      <td>AN201-RED-XXL</td>\n      <td>AN201</td>\n      <td>3.0</td>\n      <td>AN : LEGGINGS</td>\n      <td>XXL</td>\n      <td>Red</td>\n    </tr>\n    <tr>\n      <th>...</th>\n      <td>...</td>\n      <td>...</td>\n      <td>...</td>\n      <td>...</td>\n      <td>...</td>\n      <td>...</td>\n      <td>...</td>\n      <td>...</td>\n    </tr>\n    <tr>\n      <th>9266</th>\n      <td>672d26f15b46a7edd82c97db</td>\n      <td>9266</td>\n      <td>None</td>\n      <td>None</td>\n      <td>NaN</td>\n      <td>None</td>\n      <td>None</td>\n      <td>None</td>\n    </tr>\n    <tr>\n      <th>9267</th>\n      <td>672d26f15b46a7edd82c97dc</td>\n      <td>9267</td>\n      <td>None</td>\n      <td>None</td>\n      <td>NaN</td>\n      <td>None</td>\n      <td>None</td>\n      <td>None</td>\n    </tr>\n    <tr>\n      <th>9268</th>\n      <td>672d26f15b46a7edd82c97dd</td>\n      <td>9268</td>\n      <td>None</td>\n      <td>None</td>\n      <td>NaN</td>\n      <td>None</td>\n      <td>None</td>\n      <td>None</td>\n    </tr>\n    <tr>\n      <th>9269</th>\n      <td>672d26f15b46a7edd82c97de</td>\n      <td>9269</td>\n      <td>None</td>\n      <td>None</td>\n      <td>NaN</td>\n      <td>None</td>\n      <td>XXXS</td>\n      <td>None</td>\n    </tr>\n    <tr>\n      <th>9270</th>\n      <td>672d26f15b46a7edd82c97df</td>\n      <td>9270</td>\n      <td>None</td>\n      <td>None</td>\n      <td>NaN</td>\n      <td>None</td>\n      <td>None</td>\n      <td>None</td>\n    </tr>\n  </tbody>\n</table>\n<p>9271 rows × 8 columns</p>\n</div>"
                    },
                    "metadata": {}
                }
            ],
            "outputs_reference": "s3:deepnote-cell-outputs-production/a392facc-51e2-477c-a98d-9eb9c7f9e8a6",
            "content_dependencies": null
        },
        {
            "cell_type": "code",
            "metadata": {
                "source_hash": "639086dd",
                "execution_start": 1733703323605,
                "execution_millis": 1,
                "deepnote_table_state": {
                    "sortBy": [],
                    "filters": [],
                    "pageSize": 10,
                    "pageIndex": 3,
                    "conditionalFilters": [],
                    "wrappedTextColumnIds": []
                },
                "execution_context_id": "64931ff0-96a0-406e-a43a-1a91dcd0f193",
                "deepnote_table_loading": false,
                "deepnote_app_block_visible": true,
                "deepnote_app_is_code_hidden": true,
                "deepnote_app_is_output_hidden": false,
                "cell_id": "58b48ee67bd04388a60cf403a6f49a30",
                "deepnote_cell_type": "code"
            },
            "source": "dfSalesReport.replace(\"Nill\", np.nan, inplace=True)\n\n#Cleaning SKU Code, Design No. Col, Category, Size, and Color\ndfSalesReport['SKU Code'] = dfSalesReport['SKU Code'].replace([None, np.nan, \"#REF!\", 'Invalid','NO REFERENCE','###'], 'Missing')\ndfSalesReport['Design Num'] = dfSalesReport['Design Num'].replace([None, np.nan, \"#REF!\", 'Invalid'], 'Missing')\ndfSalesReport['Category'] = dfSalesReport['Category'].replace([None, np.nan, \"#REF!\", 'Invalid'], 'Missing')\ndfSalesReport['Category'] = dfSalesReport['Category'].replace('AN : LEGGINGS', 'LEGGINGS')\ndfSalesReport['Size'] = dfSalesReport['Category'].replace([None, np.nan, \"#REF!\", 'Invalid'], 'Missing')\ndfSalesReport['Color'] = dfSalesReport['Color'].replace([None, np.nan, \"#REF!\", 'Invalid', 'NO REFERENCE','###' ], 'Missing')\ndfSalesReport['Color'] = dfSalesReport['Color'].str.upper().str.lstrip()\n\n'''\n#Cleaning Stock  - Not sure what to do\ncleaning_float_col(dfSalesReport, \"Stock\")\n\n'''\ndfSalesReport['Color'].unique()\n",
            "block_group": "2b6ea31f0fcd447bac7af03a7115eee8",
            "execution_count": 13,
            "outputs": [
                {
                    "output_type": "execute_result",
                    "execution_count": 13,
                    "data": {
                        "text/plain": "array(['RED', 'ORANGE', 'MAROON', 'PURPLE', 'MISSING', 'YELLOW', 'GREEN',\n       'PINK', 'BEIGE', 'NAVY BLUE', 'BLACK', 'WHITE', 'BROWN', 'GOLD',\n       'CHIKU', 'BLUE', 'MULTICOLOR', 'PEACH', 'GREY', 'COLORLESS',\n       'OLIVE', 'UNKNOWN', 'DARK GREEN', 'TURQUOISE BLUE', 'MUSTARD',\n       'TEAL', 'KHAKI', 'OLIVE GREEN', 'TEAL BLUE ', 'CREAM', 'OFF WHITE',\n       'LIGHT GREEN', 'LIGHT PINK', 'LEMON YELLOW', 'SEA GREEN',\n       'TURQUOISE GREEN', 'LEMON ', 'LEMON', 'SKY BLUE', 'LIME GREEN',\n       'LIGHT BLUE', 'DARK BLUE', 'INDIGO', 'RUST', 'BURGUNDY', 'WINE',\n       'LIGHT BROWN', 'MAUVE', 'MINT GREEN', 'CORAL ORANGE', 'CORAL PINK',\n       'TURQUOISE', 'AQUA GREEN', 'LIGHT YELLOW', 'MAGENTA',\n       'POWDER BLUE', 'CORAL ', 'TEAL GREEN ', 'TAUPE', 'CHARCOAL',\n       'TEAL GREEN', 'NAVY', 'MINT', 'CORAL'], dtype=object)"
                    },
                    "metadata": {}
                }
            ],
            "outputs_reference": "dbtable:cell_outputs/9b351f29-01c7-4273-b508-3bc016661961",
            "content_dependencies": null
        },
        {
            "cell_type": "code",
            "metadata": {
                "source_hash": "cafd0317",
                "execution_start": 1733703323653,
                "execution_millis": 0,
                "execution_context_id": "64931ff0-96a0-406e-a43a-1a91dcd0f193",
                "deepnote_app_block_visible": true,
                "deepnote_app_is_code_hidden": true,
                "deepnote_app_is_output_hidden": false,
                "cell_id": "e23fe11fe1c140d8a6acb9437d247a98",
                "deepnote_cell_type": "code"
            },
            "source": "dfSalesReport.columns",
            "block_group": "f3bf7598eb074a84bc79d276053661c9",
            "execution_count": 14,
            "outputs": [
                {
                    "output_type": "execute_result",
                    "execution_count": 14,
                    "data": {
                        "text/plain": "Index(['_id', 'index', 'SKU Code', 'Design Num', 'Stock', 'Category', 'Size',\n       'Color'],\n      dtype='object')"
                    },
                    "metadata": {}
                }
            ],
            "outputs_reference": "dbtable:cell_outputs/ff9abf17-3064-4762-9902-a81fcca58985",
            "content_dependencies": null
        },
        {
            "cell_type": "code",
            "metadata": {
                "source_hash": "c9caad0a",
                "execution_start": 1733703323705,
                "execution_millis": 1,
                "execution_context_id": "64931ff0-96a0-406e-a43a-1a91dcd0f193",
                "deepnote_app_block_visible": true,
                "deepnote_app_is_code_hidden": true,
                "deepnote_app_is_output_hidden": false,
                "cell_id": "cc019c613a984a6eb19bb3ab883e8f01",
                "deepnote_cell_type": "code"
            },
            "source": "dfSalesReport.head(4)",
            "block_group": "cdd43dd200e34a319f780807a971fdbd",
            "execution_count": 15,
            "outputs": [
                {
                    "output_type": "execute_result",
                    "execution_count": 15,
                    "data": {
                        "application/vnd.deepnote.dataframe.v3+json": {
                            "column_count": 8,
                            "row_count": 4,
                            "columns": [
                                {
                                    "name": "_id",
                                    "dtype": "object",
                                    "stats": {
                                        "unique_count": 4,
                                        "nan_count": 0,
                                        "categories": [
                                            {
                                                "name": "672d26ee5b46a7edd82c73a9",
                                                "count": 1
                                            },
                                            {
                                                "name": "672d26ee5b46a7edd82c73aa",
                                                "count": 1
                                            },
                                            {
                                                "name": "2 others",
                                                "count": 2
                                            }
                                        ]
                                    }
                                },
                                {
                                    "name": "index",
                                    "dtype": "int64",
                                    "stats": {
                                        "unique_count": 4,
                                        "nan_count": 0,
                                        "min": "0",
                                        "max": "3",
                                        "histogram": [
                                            {
                                                "bin_start": 0,
                                                "bin_end": 0.3,
                                                "count": 1
                                            },
                                            {
                                                "bin_start": 0.3,
                                                "bin_end": 0.6,
                                                "count": 0
                                            },
                                            {
                                                "bin_start": 0.6,
                                                "bin_end": 0.8999999999999999,
                                                "count": 0
                                            },
                                            {
                                                "bin_start": 0.8999999999999999,
                                                "bin_end": 1.2,
                                                "count": 1
                                            },
                                            {
                                                "bin_start": 1.2,
                                                "bin_end": 1.5,
                                                "count": 0
                                            },
                                            {
                                                "bin_start": 1.5,
                                                "bin_end": 1.7999999999999998,
                                                "count": 0
                                            },
                                            {
                                                "bin_start": 1.7999999999999998,
                                                "bin_end": 2.1,
                                                "count": 1
                                            },
                                            {
                                                "bin_start": 2.1,
                                                "bin_end": 2.4,
                                                "count": 0
                                            },
                                            {
                                                "bin_start": 2.4,
                                                "bin_end": 2.6999999999999997,
                                                "count": 0
                                            },
                                            {
                                                "bin_start": 2.6999999999999997,
                                                "bin_end": 3,
                                                "count": 1
                                            }
                                        ]
                                    }
                                },
                                {
                                    "name": "SKU Code",
                                    "dtype": "object",
                                    "stats": {
                                        "unique_count": 4,
                                        "nan_count": 0,
                                        "categories": [
                                            {
                                                "name": "AN201-RED-L",
                                                "count": 1
                                            },
                                            {
                                                "name": "AN201-RED-M",
                                                "count": 1
                                            },
                                            {
                                                "name": "2 others",
                                                "count": 2
                                            }
                                        ]
                                    }
                                },
                                {
                                    "name": "Design Num",
                                    "dtype": "object",
                                    "stats": {
                                        "unique_count": 1,
                                        "nan_count": 0,
                                        "categories": [
                                            {
                                                "name": "AN201",
                                                "count": 4
                                            }
                                        ]
                                    }
                                },
                                {
                                    "name": "Stock",
                                    "dtype": "float64",
                                    "stats": {
                                        "unique_count": 3,
                                        "nan_count": 0,
                                        "min": "-999.0",
                                        "max": "5.0",
                                        "histogram": [
                                            {
                                                "bin_start": -999,
                                                "bin_end": -898.6,
                                                "count": 1
                                            },
                                            {
                                                "bin_start": -898.6,
                                                "bin_end": -798.2,
                                                "count": 0
                                            },
                                            {
                                                "bin_start": -798.2,
                                                "bin_end": -697.8,
                                                "count": 0
                                            },
                                            {
                                                "bin_start": -697.8,
                                                "bin_end": -597.4,
                                                "count": 0
                                            },
                                            {
                                                "bin_start": -597.4,
                                                "bin_end": -497,
                                                "count": 0
                                            },
                                            {
                                                "bin_start": -497,
                                                "bin_end": -396.5999999999999,
                                                "count": 0
                                            },
                                            {
                                                "bin_start": -396.5999999999999,
                                                "bin_end": -296.19999999999993,
                                                "count": 0
                                            },
                                            {
                                                "bin_start": -296.19999999999993,
                                                "bin_end": -195.79999999999995,
                                                "count": 0
                                            },
                                            {
                                                "bin_start": -195.79999999999995,
                                                "bin_end": -95.39999999999998,
                                                "count": 0
                                            },
                                            {
                                                "bin_start": -95.39999999999998,
                                                "bin_end": 5,
                                                "count": 3
                                            }
                                        ]
                                    }
                                },
                                {
                                    "name": "Category",
                                    "dtype": "object",
                                    "stats": {
                                        "unique_count": 1,
                                        "nan_count": 0,
                                        "categories": [
                                            {
                                                "name": "LEGGINGS",
                                                "count": 4
                                            }
                                        ]
                                    }
                                },
                                {
                                    "name": "Size",
                                    "dtype": "object",
                                    "stats": {
                                        "unique_count": 1,
                                        "nan_count": 0,
                                        "categories": [
                                            {
                                                "name": "LEGGINGS",
                                                "count": 4
                                            }
                                        ]
                                    }
                                },
                                {
                                    "name": "Color",
                                    "dtype": "object",
                                    "stats": {
                                        "unique_count": 1,
                                        "nan_count": 0,
                                        "categories": [
                                            {
                                                "name": "RED",
                                                "count": 4
                                            }
                                        ]
                                    }
                                },
                                {
                                    "name": "_deepnote_index_column",
                                    "dtype": "int64"
                                }
                            ],
                            "rows": [
                                {
                                    "_id": "672d26ee5b46a7edd82c73a9",
                                    "index": 0,
                                    "SKU Code": "AN201-RED-L",
                                    "Design Num": "AN201",
                                    "Stock": 5,
                                    "Category": "LEGGINGS",
                                    "Size": "LEGGINGS",
                                    "Color": "RED",
                                    "_deepnote_index_column": 0
                                },
                                {
                                    "_id": "672d26ee5b46a7edd82c73aa",
                                    "index": 1,
                                    "SKU Code": "AN201-RED-M",
                                    "Design Num": "AN201",
                                    "Stock": 5,
                                    "Category": "LEGGINGS",
                                    "Size": "LEGGINGS",
                                    "Color": "RED",
                                    "_deepnote_index_column": 1
                                },
                                {
                                    "_id": "672d26ee5b46a7edd82c73ab",
                                    "index": 2,
                                    "SKU Code": "AN201-RED-S",
                                    "Design Num": "AN201",
                                    "Stock": 3,
                                    "Category": "LEGGINGS",
                                    "Size": "LEGGINGS",
                                    "Color": "RED",
                                    "_deepnote_index_column": 2
                                },
                                {
                                    "_id": "672d26ee5b46a7edd82c73ac",
                                    "index": 3,
                                    "SKU Code": "AN201-RED-XL",
                                    "Design Num": "AN201",
                                    "Stock": -999,
                                    "Category": "LEGGINGS",
                                    "Size": "LEGGINGS",
                                    "Color": "RED",
                                    "_deepnote_index_column": 3
                                }
                            ]
                        },
                        "text/plain": "                        _id  index      SKU Code Design Num  Stock  Category  \\\n0  672d26ee5b46a7edd82c73a9      0   AN201-RED-L      AN201    5.0  LEGGINGS   \n1  672d26ee5b46a7edd82c73aa      1   AN201-RED-M      AN201    5.0  LEGGINGS   \n2  672d26ee5b46a7edd82c73ab      2   AN201-RED-S      AN201    3.0  LEGGINGS   \n3  672d26ee5b46a7edd82c73ac      3  AN201-RED-XL      AN201 -999.0  LEGGINGS   \n\n       Size Color  \n0  LEGGINGS   RED  \n1  LEGGINGS   RED  \n2  LEGGINGS   RED  \n3  LEGGINGS   RED  ",
                        "text/html": "<div>\n<style scoped>\n    .dataframe tbody tr th:only-of-type {\n        vertical-align: middle;\n    }\n\n    .dataframe tbody tr th {\n        vertical-align: top;\n    }\n\n    .dataframe thead th {\n        text-align: right;\n    }\n</style>\n<table border=\"1\" class=\"dataframe\">\n  <thead>\n    <tr style=\"text-align: right;\">\n      <th></th>\n      <th>_id</th>\n      <th>index</th>\n      <th>SKU Code</th>\n      <th>Design Num</th>\n      <th>Stock</th>\n      <th>Category</th>\n      <th>Size</th>\n      <th>Color</th>\n    </tr>\n  </thead>\n  <tbody>\n    <tr>\n      <th>0</th>\n      <td>672d26ee5b46a7edd82c73a9</td>\n      <td>0</td>\n      <td>AN201-RED-L</td>\n      <td>AN201</td>\n      <td>5.0</td>\n      <td>LEGGINGS</td>\n      <td>LEGGINGS</td>\n      <td>RED</td>\n    </tr>\n    <tr>\n      <th>1</th>\n      <td>672d26ee5b46a7edd82c73aa</td>\n      <td>1</td>\n      <td>AN201-RED-M</td>\n      <td>AN201</td>\n      <td>5.0</td>\n      <td>LEGGINGS</td>\n      <td>LEGGINGS</td>\n      <td>RED</td>\n    </tr>\n    <tr>\n      <th>2</th>\n      <td>672d26ee5b46a7edd82c73ab</td>\n      <td>2</td>\n      <td>AN201-RED-S</td>\n      <td>AN201</td>\n      <td>3.0</td>\n      <td>LEGGINGS</td>\n      <td>LEGGINGS</td>\n      <td>RED</td>\n    </tr>\n    <tr>\n      <th>3</th>\n      <td>672d26ee5b46a7edd82c73ac</td>\n      <td>3</td>\n      <td>AN201-RED-XL</td>\n      <td>AN201</td>\n      <td>-999.0</td>\n      <td>LEGGINGS</td>\n      <td>LEGGINGS</td>\n      <td>RED</td>\n    </tr>\n  </tbody>\n</table>\n</div>"
                    },
                    "metadata": {}
                }
            ],
            "outputs_reference": "s3:deepnote-cell-outputs-production/9166d796-ed2c-4782-841d-0e712f5fe5ed",
            "content_dependencies": null
        },
        {
            "cell_type": "markdown",
            "source": "<a style='text-decoration:none;line-height:16px;display:flex;color:#5B5B62;padding:10px;justify-content:end;' href='https://deepnote.com?utm_source=created-in-deepnote-cell&projectId=e322a799-a681-4754-b873-85c47d774f17' target=\"_blank\">\n<img alt='Created in deepnote.com' style='display:inline;max-height:16px;margin:0px;margin-right:7.5px;' src='data:image/svg+xml;base64,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' > </img>\nCreated in <span style='font-weight:600;margin-left:4px;'>Deepnote</span></a>",
            "metadata": {
                "created_in_deepnote_cell": true,
                "deepnote_cell_type": "markdown"
            }
        }
    ],
    "nbformat": 4,
    "nbformat_minor": 0,
    "metadata": {
        "deepnote_app_layout": "powerful-article",
        "deepnote_app_reactivity_enabled": true,
        "deepnote_notebook_id": "3be7a1cd83e047589b4f5eeee251873f"
    }
}